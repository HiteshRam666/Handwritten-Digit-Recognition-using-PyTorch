{
  "nbformat": 4,
  "nbformat_minor": 0,
  "metadata": {
    "colab": {
      "provenance": [],
      "gpuType": "T4"
    },
    "kernelspec": {
      "name": "python3",
      "display_name": "Python 3"
    },
    "language_info": {
      "name": "python"
    },
    "accelerator": "GPU"
  },
  "cells": [
    {
      "cell_type": "markdown",
      "source": [
        "##**Importing Dependencies**"
      ],
      "metadata": {
        "id": "cCnUvW4vc5Xv"
      }
    },
    {
      "cell_type": "code",
      "source": [
        "import torch\n",
        "import torchvision\n",
        "from torchvision import datasets\n",
        "from torchvision.transforms import ToTensor"
      ],
      "metadata": {
        "id": "aJED16dHaz5y"
      },
      "execution_count": 1,
      "outputs": []
    },
    {
      "cell_type": "markdown",
      "source": [
        "##**Downloading Data**"
      ],
      "metadata": {
        "id": "devjOIUUc9LT"
      }
    },
    {
      "cell_type": "code",
      "source": [
        "train_data = datasets.MNIST(\n",
        "    root = 'data',\n",
        "    train = True,\n",
        "    transform = ToTensor(),\n",
        "    download = True\n",
        ")\n",
        "test_data = datasets.MNIST(\n",
        "    root = 'data',\n",
        "    train = False,\n",
        "    transform = ToTensor(),\n",
        "    download = True\n",
        ")"
      ],
      "metadata": {
        "colab": {
          "base_uri": "https://localhost:8080/"
        },
        "id": "O6YYmamda4jI",
        "outputId": "f1301b3d-91ef-43c1-9030-7c66e05151c5"
      },
      "execution_count": 2,
      "outputs": [
        {
          "output_type": "stream",
          "name": "stdout",
          "text": [
            "Downloading http://yann.lecun.com/exdb/mnist/train-images-idx3-ubyte.gz\n",
            "Downloading http://yann.lecun.com/exdb/mnist/train-images-idx3-ubyte.gz to data/MNIST/raw/train-images-idx3-ubyte.gz\n"
          ]
        },
        {
          "output_type": "stream",
          "name": "stderr",
          "text": [
            "100%|██████████| 9912422/9912422 [00:00<00:00, 135086952.09it/s]"
          ]
        },
        {
          "output_type": "stream",
          "name": "stdout",
          "text": [
            "Extracting data/MNIST/raw/train-images-idx3-ubyte.gz to data/MNIST/raw\n"
          ]
        },
        {
          "output_type": "stream",
          "name": "stderr",
          "text": [
            "\n"
          ]
        },
        {
          "output_type": "stream",
          "name": "stdout",
          "text": [
            "\n",
            "Downloading http://yann.lecun.com/exdb/mnist/train-labels-idx1-ubyte.gz\n",
            "Downloading http://yann.lecun.com/exdb/mnist/train-labels-idx1-ubyte.gz to data/MNIST/raw/train-labels-idx1-ubyte.gz\n"
          ]
        },
        {
          "output_type": "stream",
          "name": "stderr",
          "text": [
            "100%|██████████| 28881/28881 [00:00<00:00, 118993805.33it/s]\n"
          ]
        },
        {
          "output_type": "stream",
          "name": "stdout",
          "text": [
            "Extracting data/MNIST/raw/train-labels-idx1-ubyte.gz to data/MNIST/raw\n",
            "\n",
            "Downloading http://yann.lecun.com/exdb/mnist/t10k-images-idx3-ubyte.gz\n",
            "Downloading http://yann.lecun.com/exdb/mnist/t10k-images-idx3-ubyte.gz to data/MNIST/raw/t10k-images-idx3-ubyte.gz\n"
          ]
        },
        {
          "output_type": "stream",
          "name": "stderr",
          "text": [
            "100%|██████████| 1648877/1648877 [00:00<00:00, 30532388.84it/s]"
          ]
        },
        {
          "output_type": "stream",
          "name": "stdout",
          "text": [
            "Extracting data/MNIST/raw/t10k-images-idx3-ubyte.gz to data/MNIST/raw\n"
          ]
        },
        {
          "output_type": "stream",
          "name": "stderr",
          "text": [
            "\n"
          ]
        },
        {
          "output_type": "stream",
          "name": "stdout",
          "text": [
            "\n",
            "Downloading http://yann.lecun.com/exdb/mnist/t10k-labels-idx1-ubyte.gz\n",
            "Downloading http://yann.lecun.com/exdb/mnist/t10k-labels-idx1-ubyte.gz to data/MNIST/raw/t10k-labels-idx1-ubyte.gz\n"
          ]
        },
        {
          "output_type": "stream",
          "name": "stderr",
          "text": [
            "100%|██████████| 4542/4542 [00:00<00:00, 7872119.33it/s]\n"
          ]
        },
        {
          "output_type": "stream",
          "name": "stdout",
          "text": [
            "Extracting data/MNIST/raw/t10k-labels-idx1-ubyte.gz to data/MNIST/raw\n",
            "\n"
          ]
        }
      ]
    },
    {
      "cell_type": "code",
      "source": [
        "train_data, test_data"
      ],
      "metadata": {
        "colab": {
          "base_uri": "https://localhost:8080/"
        },
        "id": "E1iOu-smbdqi",
        "outputId": "8736a5ff-4fb4-438f-9a9f-c30bfd7fe579"
      },
      "execution_count": 3,
      "outputs": [
        {
          "output_type": "execute_result",
          "data": {
            "text/plain": [
              "(Dataset MNIST\n",
              "     Number of datapoints: 60000\n",
              "     Root location: data\n",
              "     Split: Train\n",
              "     StandardTransform\n",
              " Transform: ToTensor(),\n",
              " Dataset MNIST\n",
              "     Number of datapoints: 10000\n",
              "     Root location: data\n",
              "     Split: Test\n",
              "     StandardTransform\n",
              " Transform: ToTensor())"
            ]
          },
          "metadata": {},
          "execution_count": 3
        }
      ]
    },
    {
      "cell_type": "code",
      "source": [
        "train_data.data.shape"
      ],
      "metadata": {
        "colab": {
          "base_uri": "https://localhost:8080/"
        },
        "id": "4IMF13e9bnVQ",
        "outputId": "b47bb195-14b0-4cca-b6de-cca683637b00"
      },
      "execution_count": 4,
      "outputs": [
        {
          "output_type": "execute_result",
          "data": {
            "text/plain": [
              "torch.Size([60000, 28, 28])"
            ]
          },
          "metadata": {},
          "execution_count": 4
        }
      ]
    },
    {
      "cell_type": "code",
      "source": [
        "test_data.data.shape"
      ],
      "metadata": {
        "colab": {
          "base_uri": "https://localhost:8080/"
        },
        "id": "LWRSjdzkbzAS",
        "outputId": "23c2ad7c-d761-4152-daff-9fd8feef3ca8"
      },
      "execution_count": 5,
      "outputs": [
        {
          "output_type": "execute_result",
          "data": {
            "text/plain": [
              "torch.Size([10000, 28, 28])"
            ]
          },
          "metadata": {},
          "execution_count": 5
        }
      ]
    },
    {
      "cell_type": "code",
      "source": [
        "train_data.targets.size()"
      ],
      "metadata": {
        "colab": {
          "base_uri": "https://localhost:8080/"
        },
        "id": "LKux3diWcQLx",
        "outputId": "52b69851-46fd-468d-a7b4-a7fc0910f3c6"
      },
      "execution_count": 6,
      "outputs": [
        {
          "output_type": "execute_result",
          "data": {
            "text/plain": [
              "torch.Size([60000])"
            ]
          },
          "metadata": {},
          "execution_count": 6
        }
      ]
    },
    {
      "cell_type": "code",
      "source": [
        "train_data.targets"
      ],
      "metadata": {
        "colab": {
          "base_uri": "https://localhost:8080/"
        },
        "id": "I2DORzafcVjx",
        "outputId": "f969cfc4-bdd0-43d4-89c6-580810d670e8"
      },
      "execution_count": 7,
      "outputs": [
        {
          "output_type": "execute_result",
          "data": {
            "text/plain": [
              "tensor([5, 0, 4,  ..., 5, 6, 8])"
            ]
          },
          "metadata": {},
          "execution_count": 7
        }
      ]
    },
    {
      "cell_type": "markdown",
      "source": [
        "##**Converting Data into Batches**"
      ],
      "metadata": {
        "id": "rRuZjy6udCJZ"
      }
    },
    {
      "cell_type": "code",
      "source": [
        "from torch.utils.data import DataLoader\n",
        "loaders = {\n",
        "    'train': DataLoader(train_data,\n",
        "                        batch_size = 100,\n",
        "                        shuffle = True,\n",
        "                        num_workers = 1),\n",
        "    'test': DataLoader(test_data,\n",
        "                       batch_size = 100,\n",
        "                       shuffle = True,\n",
        "                       num_workers = 1)\n",
        "}"
      ],
      "metadata": {
        "id": "bb9g9If4cXwJ"
      },
      "execution_count": 8,
      "outputs": []
    },
    {
      "cell_type": "code",
      "source": [
        "loaders"
      ],
      "metadata": {
        "colab": {
          "base_uri": "https://localhost:8080/"
        },
        "id": "8T6G8UBZcx1j",
        "outputId": "e4a6984d-4cb1-4d59-960a-4bfe399e68a1"
      },
      "execution_count": 9,
      "outputs": [
        {
          "output_type": "execute_result",
          "data": {
            "text/plain": [
              "{'train': <torch.utils.data.dataloader.DataLoader at 0x79d6dcaf4c10>,\n",
              " 'test': <torch.utils.data.dataloader.DataLoader at 0x79d6dcaf48e0>}"
            ]
          },
          "metadata": {},
          "execution_count": 9
        }
      ]
    },
    {
      "cell_type": "markdown",
      "source": [
        "##**Building Neural Networks**"
      ],
      "metadata": {
        "id": "qlY3KLv7dGfS"
      }
    },
    {
      "cell_type": "code",
      "source": [
        "import torch.nn as nn\n",
        "import torch.nn.functional as F\n",
        "import torch.optim as optim\n",
        "\n",
        "class CNN(nn.Module):\n",
        "  def __init__(self):\n",
        "    super(CNN, self).__init__()\n",
        "    self.conv1 = nn.Conv2d(1, 10, kernel_size = 5)\n",
        "    self.conv2 = nn.Conv2d(10, 20, kernel_size = 5)\n",
        "    self.conv2_drop = nn.Dropout()\n",
        "    self.fc1 = nn.Linear(320, 50)\n",
        "    self.fc2 = nn.Linear(50, 10)\n",
        "\n",
        "  def forward(self, x):\n",
        "    x = F.relu(F.max_pool2d(self.conv1(x), 2))\n",
        "    x = F.relu(F.max_pool2d(self.conv2_drop(self.conv2(x)), 2))\n",
        "    x = x.view(-1, 320)\n",
        "    x = F.relu(self.fc1(x))\n",
        "    x = F.dropout(x, training = self.training)\n",
        "    x = self.fc2(x)\n",
        "\n",
        "    return F.softmax(x)"
      ],
      "metadata": {
        "id": "S6aNcB40czOo"
      },
      "execution_count": 10,
      "outputs": []
    },
    {
      "cell_type": "code",
      "source": [
        "device = torch.device('cuda' if torch.cuda.is_available() else 'cpu')\n",
        "\n",
        "model = CNN().to(device)\n",
        "optimizer = optim.Adam(model.parameters(), lr = 0.001)\n",
        "loss_fn = nn.CrossEntropyLoss()\n",
        "\n",
        "def train(epoch):\n",
        "  model.train()\n",
        "  for batch_idx, (data, target) in enumerate(loaders['train']):\n",
        "    data, target = data.to(device), target.to(device)\n",
        "    optimizer.zero_grad()\n",
        "    output = model(data)\n",
        "    loss = loss_fn(output, target)\n",
        "    loss.backward()\n",
        "    optimizer.step()\n",
        "    if batch_idx % 20 == 0:\n",
        "      print(f'Train epoch: {epoch} [{batch_idx * len(data)} / {len(loaders[\"train\"].dataset)} ({100. * batch_idx / len(loaders[\"train\"]):.0f}%)]\\t{loss.item():.6f}')\n",
        "\n",
        "def test():\n",
        "  model.eval()\n",
        "\n",
        "  test_loss = 0\n",
        "  correct = 0\n",
        "\n",
        "  with torch.no_grad():\n",
        "    for data, target in loaders['test']:\n",
        "      data, target = data.to(device), target.to(device)\n",
        "      output = model(data)\n",
        "      test_loss = loss_fn(output, target).item()\n",
        "      pred = output.argmax(dim = 1, keepdim = True)\n",
        "      correct = pred.eq(target.view_as(pred)).sum().item()\n",
        "\n",
        "  test_loss /= len(loaders['test'].dataset)\n",
        "  print(f'\\nTest set: Average Loss: {test_loss:.4f}, Accuracy {correct}/{len(loaders[\"test\"].dataset)} ({100. * correct / len(loaders[\"test\"].dataset):.0f}%\\n)')"
      ],
      "metadata": {
        "id": "ouY9qqKMgFCc"
      },
      "execution_count": 22,
      "outputs": []
    },
    {
      "cell_type": "code",
      "source": [
        "for epoch in range(1, 11):\n",
        "  train(epoch)\n",
        "  test()"
      ],
      "metadata": {
        "colab": {
          "base_uri": "https://localhost:8080/"
        },
        "id": "3Q-aX-0PgHwJ",
        "outputId": "a8ac4af6-92ae-4418-8f5a-3c0c7f3fa035"
      },
      "execution_count": 23,
      "outputs": [
        {
          "output_type": "stream",
          "name": "stderr",
          "text": [
            "<ipython-input-10-42f3f7272d79>:22: UserWarning: Implicit dimension choice for softmax has been deprecated. Change the call to include dim=X as an argument.\n",
            "  return F.softmax(x)\n"
          ]
        },
        {
          "output_type": "stream",
          "name": "stdout",
          "text": [
            "Train epoch: 1 [0 / 60000 (0%)]\t2.303294\n",
            "Train epoch: 1 [2000 / 60000 (3%)]\t2.280870\n",
            "Train epoch: 1 [4000 / 60000 (7%)]\t2.118371\n",
            "Train epoch: 1 [6000 / 60000 (10%)]\t2.022578\n",
            "Train epoch: 1 [8000 / 60000 (13%)]\t1.872206\n",
            "Train epoch: 1 [10000 / 60000 (17%)]\t1.826333\n",
            "Train epoch: 1 [12000 / 60000 (20%)]\t1.753548\n",
            "Train epoch: 1 [14000 / 60000 (23%)]\t1.712250\n",
            "Train epoch: 1 [16000 / 60000 (27%)]\t1.682859\n",
            "Train epoch: 1 [18000 / 60000 (30%)]\t1.641972\n",
            "Train epoch: 1 [20000 / 60000 (33%)]\t1.690999\n",
            "Train epoch: 1 [22000 / 60000 (37%)]\t1.602963\n",
            "Train epoch: 1 [24000 / 60000 (40%)]\t1.633030\n",
            "Train epoch: 1 [26000 / 60000 (43%)]\t1.643385\n",
            "Train epoch: 1 [28000 / 60000 (47%)]\t1.645587\n",
            "Train epoch: 1 [30000 / 60000 (50%)]\t1.721786\n",
            "Train epoch: 1 [32000 / 60000 (53%)]\t1.660494\n",
            "Train epoch: 1 [34000 / 60000 (57%)]\t1.626354\n",
            "Train epoch: 1 [36000 / 60000 (60%)]\t1.589863\n",
            "Train epoch: 1 [38000 / 60000 (63%)]\t1.616314\n",
            "Train epoch: 1 [40000 / 60000 (67%)]\t1.609763\n",
            "Train epoch: 1 [42000 / 60000 (70%)]\t1.537550\n",
            "Train epoch: 1 [44000 / 60000 (73%)]\t1.561801\n",
            "Train epoch: 1 [46000 / 60000 (77%)]\t1.632413\n",
            "Train epoch: 1 [48000 / 60000 (80%)]\t1.613121\n",
            "Train epoch: 1 [50000 / 60000 (83%)]\t1.594375\n",
            "Train epoch: 1 [52000 / 60000 (87%)]\t1.567969\n",
            "Train epoch: 1 [54000 / 60000 (90%)]\t1.568492\n",
            "Train epoch: 1 [56000 / 60000 (93%)]\t1.600282\n",
            "Train epoch: 1 [58000 / 60000 (97%)]\t1.599975\n",
            "\n",
            "Test set: Average Loss: 0.0002, Accuracy 91/10000 (1%\n",
            ")\n",
            "Train epoch: 2 [0 / 60000 (0%)]\t1.614596\n",
            "Train epoch: 2 [2000 / 60000 (3%)]\t1.574461\n",
            "Train epoch: 2 [4000 / 60000 (7%)]\t1.566647\n",
            "Train epoch: 2 [6000 / 60000 (10%)]\t1.555759\n",
            "Train epoch: 2 [8000 / 60000 (13%)]\t1.583875\n",
            "Train epoch: 2 [10000 / 60000 (17%)]\t1.543088\n",
            "Train epoch: 2 [12000 / 60000 (20%)]\t1.558128\n",
            "Train epoch: 2 [14000 / 60000 (23%)]\t1.578533\n",
            "Train epoch: 2 [16000 / 60000 (27%)]\t1.533303\n",
            "Train epoch: 2 [18000 / 60000 (30%)]\t1.549810\n",
            "Train epoch: 2 [20000 / 60000 (33%)]\t1.544093\n",
            "Train epoch: 2 [22000 / 60000 (37%)]\t1.596422\n",
            "Train epoch: 2 [24000 / 60000 (40%)]\t1.535404\n",
            "Train epoch: 2 [26000 / 60000 (43%)]\t1.548498\n",
            "Train epoch: 2 [28000 / 60000 (47%)]\t1.570711\n",
            "Train epoch: 2 [30000 / 60000 (50%)]\t1.501685\n",
            "Train epoch: 2 [32000 / 60000 (53%)]\t1.574599\n",
            "Train epoch: 2 [34000 / 60000 (57%)]\t1.575692\n",
            "Train epoch: 2 [36000 / 60000 (60%)]\t1.559981\n",
            "Train epoch: 2 [38000 / 60000 (63%)]\t1.548491\n",
            "Train epoch: 2 [40000 / 60000 (67%)]\t1.520714\n",
            "Train epoch: 2 [42000 / 60000 (70%)]\t1.552086\n",
            "Train epoch: 2 [44000 / 60000 (73%)]\t1.598730\n",
            "Train epoch: 2 [46000 / 60000 (77%)]\t1.528769\n",
            "Train epoch: 2 [48000 / 60000 (80%)]\t1.530921\n",
            "Train epoch: 2 [50000 / 60000 (83%)]\t1.530892\n",
            "Train epoch: 2 [52000 / 60000 (87%)]\t1.535783\n",
            "Train epoch: 2 [54000 / 60000 (90%)]\t1.536964\n",
            "Train epoch: 2 [56000 / 60000 (93%)]\t1.549593\n",
            "Train epoch: 2 [58000 / 60000 (97%)]\t1.508777\n",
            "\n",
            "Test set: Average Loss: 0.0001, Accuracy 98/10000 (1%\n",
            ")\n",
            "Train epoch: 3 [0 / 60000 (0%)]\t1.533276\n",
            "Train epoch: 3 [2000 / 60000 (3%)]\t1.530284\n",
            "Train epoch: 3 [4000 / 60000 (7%)]\t1.520366\n",
            "Train epoch: 3 [6000 / 60000 (10%)]\t1.519441\n",
            "Train epoch: 3 [8000 / 60000 (13%)]\t1.532272\n",
            "Train epoch: 3 [10000 / 60000 (17%)]\t1.530356\n",
            "Train epoch: 3 [12000 / 60000 (20%)]\t1.500879\n",
            "Train epoch: 3 [14000 / 60000 (23%)]\t1.538409\n",
            "Train epoch: 3 [16000 / 60000 (27%)]\t1.526008\n",
            "Train epoch: 3 [18000 / 60000 (30%)]\t1.525563\n",
            "Train epoch: 3 [20000 / 60000 (33%)]\t1.564821\n",
            "Train epoch: 3 [22000 / 60000 (37%)]\t1.563456\n",
            "Train epoch: 3 [24000 / 60000 (40%)]\t1.491836\n",
            "Train epoch: 3 [26000 / 60000 (43%)]\t1.544779\n",
            "Train epoch: 3 [28000 / 60000 (47%)]\t1.574583\n",
            "Train epoch: 3 [30000 / 60000 (50%)]\t1.512458\n",
            "Train epoch: 3 [32000 / 60000 (53%)]\t1.533525\n",
            "Train epoch: 3 [34000 / 60000 (57%)]\t1.507407\n",
            "Train epoch: 3 [36000 / 60000 (60%)]\t1.583496\n",
            "Train epoch: 3 [38000 / 60000 (63%)]\t1.604017\n",
            "Train epoch: 3 [40000 / 60000 (67%)]\t1.539585\n",
            "Train epoch: 3 [42000 / 60000 (70%)]\t1.530631\n",
            "Train epoch: 3 [44000 / 60000 (73%)]\t1.556559\n",
            "Train epoch: 3 [46000 / 60000 (77%)]\t1.550527\n",
            "Train epoch: 3 [48000 / 60000 (80%)]\t1.530958\n",
            "Train epoch: 3 [50000 / 60000 (83%)]\t1.524413\n",
            "Train epoch: 3 [52000 / 60000 (87%)]\t1.499929\n",
            "Train epoch: 3 [54000 / 60000 (90%)]\t1.530566\n",
            "Train epoch: 3 [56000 / 60000 (93%)]\t1.529915\n",
            "Train epoch: 3 [58000 / 60000 (97%)]\t1.576285\n",
            "\n",
            "Test set: Average Loss: 0.0001, Accuracy 99/10000 (1%\n",
            ")\n",
            "Train epoch: 4 [0 / 60000 (0%)]\t1.536847\n",
            "Train epoch: 4 [2000 / 60000 (3%)]\t1.533293\n",
            "Train epoch: 4 [4000 / 60000 (7%)]\t1.548067\n",
            "Train epoch: 4 [6000 / 60000 (10%)]\t1.518173\n",
            "Train epoch: 4 [8000 / 60000 (13%)]\t1.535764\n",
            "Train epoch: 4 [10000 / 60000 (17%)]\t1.566914\n",
            "Train epoch: 4 [12000 / 60000 (20%)]\t1.499894\n",
            "Train epoch: 4 [14000 / 60000 (23%)]\t1.558193\n",
            "Train epoch: 4 [16000 / 60000 (27%)]\t1.561426\n",
            "Train epoch: 4 [18000 / 60000 (30%)]\t1.545785\n",
            "Train epoch: 4 [20000 / 60000 (33%)]\t1.502562\n",
            "Train epoch: 4 [22000 / 60000 (37%)]\t1.526372\n",
            "Train epoch: 4 [24000 / 60000 (40%)]\t1.500713\n",
            "Train epoch: 4 [26000 / 60000 (43%)]\t1.574120\n",
            "Train epoch: 4 [28000 / 60000 (47%)]\t1.540954\n",
            "Train epoch: 4 [30000 / 60000 (50%)]\t1.530849\n",
            "Train epoch: 4 [32000 / 60000 (53%)]\t1.532933\n",
            "Train epoch: 4 [34000 / 60000 (57%)]\t1.566607\n",
            "Train epoch: 4 [36000 / 60000 (60%)]\t1.487368\n",
            "Train epoch: 4 [38000 / 60000 (63%)]\t1.539615\n",
            "Train epoch: 4 [40000 / 60000 (67%)]\t1.572390\n",
            "Train epoch: 4 [42000 / 60000 (70%)]\t1.564152\n",
            "Train epoch: 4 [44000 / 60000 (73%)]\t1.605672\n",
            "Train epoch: 4 [46000 / 60000 (77%)]\t1.489988\n",
            "Train epoch: 4 [48000 / 60000 (80%)]\t1.514265\n",
            "Train epoch: 4 [50000 / 60000 (83%)]\t1.527229\n",
            "Train epoch: 4 [52000 / 60000 (87%)]\t1.530000\n",
            "Train epoch: 4 [54000 / 60000 (90%)]\t1.507796\n",
            "Train epoch: 4 [56000 / 60000 (93%)]\t1.487062\n",
            "Train epoch: 4 [58000 / 60000 (97%)]\t1.516912\n",
            "\n",
            "Test set: Average Loss: 0.0001, Accuracy 99/10000 (1%\n",
            ")\n",
            "Train epoch: 5 [0 / 60000 (0%)]\t1.587184\n",
            "Train epoch: 5 [2000 / 60000 (3%)]\t1.533086\n",
            "Train epoch: 5 [4000 / 60000 (7%)]\t1.505496\n",
            "Train epoch: 5 [6000 / 60000 (10%)]\t1.562994\n",
            "Train epoch: 5 [8000 / 60000 (13%)]\t1.529047\n",
            "Train epoch: 5 [10000 / 60000 (17%)]\t1.520689\n",
            "Train epoch: 5 [12000 / 60000 (20%)]\t1.525395\n",
            "Train epoch: 5 [14000 / 60000 (23%)]\t1.528570\n",
            "Train epoch: 5 [16000 / 60000 (27%)]\t1.526039\n",
            "Train epoch: 5 [18000 / 60000 (30%)]\t1.503076\n",
            "Train epoch: 5 [20000 / 60000 (33%)]\t1.522952\n",
            "Train epoch: 5 [22000 / 60000 (37%)]\t1.490425\n",
            "Train epoch: 5 [24000 / 60000 (40%)]\t1.487275\n",
            "Train epoch: 5 [26000 / 60000 (43%)]\t1.486931\n",
            "Train epoch: 5 [28000 / 60000 (47%)]\t1.516744\n",
            "Train epoch: 5 [30000 / 60000 (50%)]\t1.531881\n",
            "Train epoch: 5 [32000 / 60000 (53%)]\t1.506577\n",
            "Train epoch: 5 [34000 / 60000 (57%)]\t1.518022\n",
            "Train epoch: 5 [36000 / 60000 (60%)]\t1.548865\n",
            "Train epoch: 5 [38000 / 60000 (63%)]\t1.573913\n",
            "Train epoch: 5 [40000 / 60000 (67%)]\t1.544984\n",
            "Train epoch: 5 [42000 / 60000 (70%)]\t1.544280\n",
            "Train epoch: 5 [44000 / 60000 (73%)]\t1.529270\n",
            "Train epoch: 5 [46000 / 60000 (77%)]\t1.516094\n",
            "Train epoch: 5 [48000 / 60000 (80%)]\t1.527296\n",
            "Train epoch: 5 [50000 / 60000 (83%)]\t1.572823\n",
            "Train epoch: 5 [52000 / 60000 (87%)]\t1.523857\n",
            "Train epoch: 5 [54000 / 60000 (90%)]\t1.511226\n",
            "Train epoch: 5 [56000 / 60000 (93%)]\t1.559922\n",
            "Train epoch: 5 [58000 / 60000 (97%)]\t1.520690\n",
            "\n",
            "Test set: Average Loss: 0.0002, Accuracy 95/10000 (1%\n",
            ")\n",
            "Train epoch: 6 [0 / 60000 (0%)]\t1.513499\n",
            "Train epoch: 6 [2000 / 60000 (3%)]\t1.517889\n",
            "Train epoch: 6 [4000 / 60000 (7%)]\t1.518289\n",
            "Train epoch: 6 [6000 / 60000 (10%)]\t1.511310\n",
            "Train epoch: 6 [8000 / 60000 (13%)]\t1.513449\n",
            "Train epoch: 6 [10000 / 60000 (17%)]\t1.523758\n",
            "Train epoch: 6 [12000 / 60000 (20%)]\t1.502844\n",
            "Train epoch: 6 [14000 / 60000 (23%)]\t1.499569\n",
            "Train epoch: 6 [16000 / 60000 (27%)]\t1.541198\n",
            "Train epoch: 6 [18000 / 60000 (30%)]\t1.532997\n",
            "Train epoch: 6 [20000 / 60000 (33%)]\t1.510298\n",
            "Train epoch: 6 [22000 / 60000 (37%)]\t1.476020\n",
            "Train epoch: 6 [24000 / 60000 (40%)]\t1.499494\n",
            "Train epoch: 6 [26000 / 60000 (43%)]\t1.524545\n",
            "Train epoch: 6 [28000 / 60000 (47%)]\t1.512539\n",
            "Train epoch: 6 [30000 / 60000 (50%)]\t1.525108\n",
            "Train epoch: 6 [32000 / 60000 (53%)]\t1.520632\n",
            "Train epoch: 6 [34000 / 60000 (57%)]\t1.532206\n",
            "Train epoch: 6 [36000 / 60000 (60%)]\t1.490634\n",
            "Train epoch: 6 [38000 / 60000 (63%)]\t1.540451\n",
            "Train epoch: 6 [40000 / 60000 (67%)]\t1.503139\n",
            "Train epoch: 6 [42000 / 60000 (70%)]\t1.523406\n",
            "Train epoch: 6 [44000 / 60000 (73%)]\t1.488425\n",
            "Train epoch: 6 [46000 / 60000 (77%)]\t1.498081\n",
            "Train epoch: 6 [48000 / 60000 (80%)]\t1.538667\n",
            "Train epoch: 6 [50000 / 60000 (83%)]\t1.518043\n",
            "Train epoch: 6 [52000 / 60000 (87%)]\t1.485908\n",
            "Train epoch: 6 [54000 / 60000 (90%)]\t1.525468\n",
            "Train epoch: 6 [56000 / 60000 (93%)]\t1.508184\n",
            "Train epoch: 6 [58000 / 60000 (97%)]\t1.514236\n",
            "\n",
            "Test set: Average Loss: 0.0001, Accuracy 97/10000 (1%\n",
            ")\n",
            "Train epoch: 7 [0 / 60000 (0%)]\t1.498412\n",
            "Train epoch: 7 [2000 / 60000 (3%)]\t1.539913\n",
            "Train epoch: 7 [4000 / 60000 (7%)]\t1.548841\n",
            "Train epoch: 7 [6000 / 60000 (10%)]\t1.533052\n",
            "Train epoch: 7 [8000 / 60000 (13%)]\t1.525198\n",
            "Train epoch: 7 [10000 / 60000 (17%)]\t1.528448\n",
            "Train epoch: 7 [12000 / 60000 (20%)]\t1.531036\n",
            "Train epoch: 7 [14000 / 60000 (23%)]\t1.507645\n",
            "Train epoch: 7 [16000 / 60000 (27%)]\t1.519364\n",
            "Train epoch: 7 [18000 / 60000 (30%)]\t1.513243\n",
            "Train epoch: 7 [20000 / 60000 (33%)]\t1.538432\n",
            "Train epoch: 7 [22000 / 60000 (37%)]\t1.505940\n",
            "Train epoch: 7 [24000 / 60000 (40%)]\t1.532423\n",
            "Train epoch: 7 [26000 / 60000 (43%)]\t1.482868\n",
            "Train epoch: 7 [28000 / 60000 (47%)]\t1.527604\n",
            "Train epoch: 7 [30000 / 60000 (50%)]\t1.498417\n",
            "Train epoch: 7 [32000 / 60000 (53%)]\t1.502498\n",
            "Train epoch: 7 [34000 / 60000 (57%)]\t1.515131\n",
            "Train epoch: 7 [36000 / 60000 (60%)]\t1.505053\n",
            "Train epoch: 7 [38000 / 60000 (63%)]\t1.572432\n",
            "Train epoch: 7 [40000 / 60000 (67%)]\t1.520082\n",
            "Train epoch: 7 [42000 / 60000 (70%)]\t1.506409\n",
            "Train epoch: 7 [44000 / 60000 (73%)]\t1.521041\n",
            "Train epoch: 7 [46000 / 60000 (77%)]\t1.516980\n",
            "Train epoch: 7 [48000 / 60000 (80%)]\t1.498497\n",
            "Train epoch: 7 [50000 / 60000 (83%)]\t1.528226\n",
            "Train epoch: 7 [52000 / 60000 (87%)]\t1.503779\n",
            "Train epoch: 7 [54000 / 60000 (90%)]\t1.492558\n",
            "Train epoch: 7 [56000 / 60000 (93%)]\t1.497405\n",
            "Train epoch: 7 [58000 / 60000 (97%)]\t1.536793\n",
            "\n",
            "Test set: Average Loss: 0.0001, Accuracy 100/10000 (1%\n",
            ")\n",
            "Train epoch: 8 [0 / 60000 (0%)]\t1.505091\n",
            "Train epoch: 8 [2000 / 60000 (3%)]\t1.472169\n",
            "Train epoch: 8 [4000 / 60000 (7%)]\t1.500235\n",
            "Train epoch: 8 [6000 / 60000 (10%)]\t1.528649\n",
            "Train epoch: 8 [8000 / 60000 (13%)]\t1.506157\n",
            "Train epoch: 8 [10000 / 60000 (17%)]\t1.491744\n",
            "Train epoch: 8 [12000 / 60000 (20%)]\t1.487108\n",
            "Train epoch: 8 [14000 / 60000 (23%)]\t1.515271\n",
            "Train epoch: 8 [16000 / 60000 (27%)]\t1.517257\n",
            "Train epoch: 8 [18000 / 60000 (30%)]\t1.487162\n",
            "Train epoch: 8 [20000 / 60000 (33%)]\t1.510381\n",
            "Train epoch: 8 [22000 / 60000 (37%)]\t1.487507\n",
            "Train epoch: 8 [24000 / 60000 (40%)]\t1.492807\n",
            "Train epoch: 8 [26000 / 60000 (43%)]\t1.518023\n",
            "Train epoch: 8 [28000 / 60000 (47%)]\t1.508622\n",
            "Train epoch: 8 [30000 / 60000 (50%)]\t1.491761\n",
            "Train epoch: 8 [32000 / 60000 (53%)]\t1.522018\n",
            "Train epoch: 8 [34000 / 60000 (57%)]\t1.482445\n",
            "Train epoch: 8 [36000 / 60000 (60%)]\t1.502654\n",
            "Train epoch: 8 [38000 / 60000 (63%)]\t1.527170\n",
            "Train epoch: 8 [40000 / 60000 (67%)]\t1.518901\n",
            "Train epoch: 8 [42000 / 60000 (70%)]\t1.494805\n",
            "Train epoch: 8 [44000 / 60000 (73%)]\t1.492480\n",
            "Train epoch: 8 [46000 / 60000 (77%)]\t1.533287\n",
            "Train epoch: 8 [48000 / 60000 (80%)]\t1.504978\n",
            "Train epoch: 8 [50000 / 60000 (83%)]\t1.531456\n",
            "Train epoch: 8 [52000 / 60000 (87%)]\t1.528920\n",
            "Train epoch: 8 [54000 / 60000 (90%)]\t1.471871\n",
            "Train epoch: 8 [56000 / 60000 (93%)]\t1.508355\n",
            "Train epoch: 8 [58000 / 60000 (97%)]\t1.501935\n",
            "\n",
            "Test set: Average Loss: 0.0001, Accuracy 100/10000 (1%\n",
            ")\n",
            "Train epoch: 9 [0 / 60000 (0%)]\t1.502309\n",
            "Train epoch: 9 [2000 / 60000 (3%)]\t1.512740\n",
            "Train epoch: 9 [4000 / 60000 (7%)]\t1.501682\n",
            "Train epoch: 9 [6000 / 60000 (10%)]\t1.483328\n",
            "Train epoch: 9 [8000 / 60000 (13%)]\t1.485957\n",
            "Train epoch: 9 [10000 / 60000 (17%)]\t1.498144\n",
            "Train epoch: 9 [12000 / 60000 (20%)]\t1.510886\n",
            "Train epoch: 9 [14000 / 60000 (23%)]\t1.497153\n",
            "Train epoch: 9 [16000 / 60000 (27%)]\t1.500432\n",
            "Train epoch: 9 [18000 / 60000 (30%)]\t1.502717\n",
            "Train epoch: 9 [20000 / 60000 (33%)]\t1.503035\n",
            "Train epoch: 9 [22000 / 60000 (37%)]\t1.498318\n",
            "Train epoch: 9 [24000 / 60000 (40%)]\t1.495893\n",
            "Train epoch: 9 [26000 / 60000 (43%)]\t1.528065\n",
            "Train epoch: 9 [28000 / 60000 (47%)]\t1.539285\n",
            "Train epoch: 9 [30000 / 60000 (50%)]\t1.528120\n",
            "Train epoch: 9 [32000 / 60000 (53%)]\t1.483797\n",
            "Train epoch: 9 [34000 / 60000 (57%)]\t1.514297\n",
            "Train epoch: 9 [36000 / 60000 (60%)]\t1.472866\n",
            "Train epoch: 9 [38000 / 60000 (63%)]\t1.514395\n",
            "Train epoch: 9 [40000 / 60000 (67%)]\t1.545393\n",
            "Train epoch: 9 [42000 / 60000 (70%)]\t1.537150\n",
            "Train epoch: 9 [44000 / 60000 (73%)]\t1.501556\n",
            "Train epoch: 9 [46000 / 60000 (77%)]\t1.516843\n",
            "Train epoch: 9 [48000 / 60000 (80%)]\t1.494721\n",
            "Train epoch: 9 [50000 / 60000 (83%)]\t1.488191\n",
            "Train epoch: 9 [52000 / 60000 (87%)]\t1.509976\n",
            "Train epoch: 9 [54000 / 60000 (90%)]\t1.487342\n",
            "Train epoch: 9 [56000 / 60000 (93%)]\t1.512900\n",
            "Train epoch: 9 [58000 / 60000 (97%)]\t1.502842\n",
            "\n",
            "Test set: Average Loss: 0.0001, Accuracy 99/10000 (1%\n",
            ")\n",
            "Train epoch: 10 [0 / 60000 (0%)]\t1.533221\n",
            "Train epoch: 10 [2000 / 60000 (3%)]\t1.515273\n",
            "Train epoch: 10 [4000 / 60000 (7%)]\t1.523892\n",
            "Train epoch: 10 [6000 / 60000 (10%)]\t1.521281\n",
            "Train epoch: 10 [8000 / 60000 (13%)]\t1.474718\n",
            "Train epoch: 10 [10000 / 60000 (17%)]\t1.492552\n",
            "Train epoch: 10 [12000 / 60000 (20%)]\t1.490314\n",
            "Train epoch: 10 [14000 / 60000 (23%)]\t1.518372\n",
            "Train epoch: 10 [16000 / 60000 (27%)]\t1.491161\n",
            "Train epoch: 10 [18000 / 60000 (30%)]\t1.492975\n",
            "Train epoch: 10 [20000 / 60000 (33%)]\t1.544363\n",
            "Train epoch: 10 [22000 / 60000 (37%)]\t1.536120\n",
            "Train epoch: 10 [24000 / 60000 (40%)]\t1.524787\n",
            "Train epoch: 10 [26000 / 60000 (43%)]\t1.498212\n",
            "Train epoch: 10 [28000 / 60000 (47%)]\t1.510347\n",
            "Train epoch: 10 [30000 / 60000 (50%)]\t1.491258\n",
            "Train epoch: 10 [32000 / 60000 (53%)]\t1.530047\n",
            "Train epoch: 10 [34000 / 60000 (57%)]\t1.524635\n",
            "Train epoch: 10 [36000 / 60000 (60%)]\t1.499565\n",
            "Train epoch: 10 [38000 / 60000 (63%)]\t1.503297\n",
            "Train epoch: 10 [40000 / 60000 (67%)]\t1.499596\n",
            "Train epoch: 10 [42000 / 60000 (70%)]\t1.497062\n",
            "Train epoch: 10 [44000 / 60000 (73%)]\t1.491086\n",
            "Train epoch: 10 [46000 / 60000 (77%)]\t1.488392\n",
            "Train epoch: 10 [48000 / 60000 (80%)]\t1.514699\n",
            "Train epoch: 10 [50000 / 60000 (83%)]\t1.474309\n",
            "Train epoch: 10 [52000 / 60000 (87%)]\t1.486709\n",
            "Train epoch: 10 [54000 / 60000 (90%)]\t1.491416\n",
            "Train epoch: 10 [56000 / 60000 (93%)]\t1.473023\n",
            "Train epoch: 10 [58000 / 60000 (97%)]\t1.516724\n",
            "\n",
            "Test set: Average Loss: 0.0001, Accuracy 99/10000 (1%\n",
            ")\n"
          ]
        }
      ]
    },
    {
      "cell_type": "code",
      "source": [
        "import matplotlib.pyplot as plt\n",
        "\n",
        "model.eval()\n",
        "\n",
        "data, target = test_data[10]\n",
        "\n",
        "data = data.unsqueeze(0).to(device)\n",
        "\n",
        "output = model(data)\n",
        "\n",
        "prediction = output.argmax(dim = 1, keepdim = True).item()\n",
        "\n",
        "print(f'Prediction: {prediction}')\n",
        "\n",
        "image = data.squeeze(0).squeeze(0).cpu().numpy()\n",
        "\n",
        "plt.imshow(image, cmap = 'gray')\n",
        "plt.show()"
      ],
      "metadata": {
        "colab": {
          "base_uri": "https://localhost:8080/",
          "height": 482
        },
        "id": "d8YPlIVrlCTp",
        "outputId": "a6b3a581-c3d4-4151-d04a-39d24d6a61bf"
      },
      "execution_count": 29,
      "outputs": [
        {
          "output_type": "stream",
          "name": "stderr",
          "text": [
            "<ipython-input-10-42f3f7272d79>:22: UserWarning: Implicit dimension choice for softmax has been deprecated. Change the call to include dim=X as an argument.\n",
            "  return F.softmax(x)\n"
          ]
        },
        {
          "output_type": "stream",
          "name": "stdout",
          "text": [
            "Prediction: 0\n"
          ]
        },
        {
          "output_type": "display_data",
          "data": {
            "text/plain": [
              "<Figure size 640x480 with 1 Axes>"
            ],
            "image/png": "[encoded data removed]"
          },
          "metadata": {}
        }
      ]
    },
    {
      "cell_type": "code",
      "source": [
        "import matplotlib.pyplot as plt\n",
        "\n",
        "model.eval()\n",
        "\n",
        "# Number of rows and columns for the grid\n",
        "num_rows = 2\n",
        "num_columns = 5\n",
        "\n",
        "# Create a grid of subplots\n",
        "fig, axs = plt.subplots(num_rows, num_columns, figsize=(12, 5))\n",
        "\n",
        "for i in range(min(num_rows * num_columns, len(test_data))):\n",
        "    row = i // num_columns\n",
        "    col = i % num_columns\n",
        "\n",
        "    data, target = test_data[i]\n",
        "    data = data.unsqueeze(0).to(device)\n",
        "    output = model(data)\n",
        "    prediction = output.argmax(dim=1, keepdim=True).item()\n",
        "\n",
        "    image = data.squeeze(0).squeeze(0).cpu().numpy()\n",
        "\n",
        "    axs[row, col].imshow(image, cmap='gray')\n",
        "    axs[row, col].set_title(f'Prediction: {prediction}')\n",
        "    axs[row, col].axis('off')\n",
        "\n",
        "# Adjust spacing between subplots\n",
        "plt.subplots_adjust(wspace=0.2, hspace=0.4)\n",
        "\n",
        "plt.show()\n"
      ],
      "metadata": {
        "colab": {
          "base_uri": "https://localhost:8080/",
          "height": 479
        },
        "id": "4x5fzSMNmqbh",
        "outputId": "01f1b904-c317-496e-b315-b95d1033b7b2"
      },
      "execution_count": 31,
      "outputs": [
        {
          "output_type": "stream",
          "name": "stderr",
          "text": [
            "<ipython-input-10-42f3f7272d79>:22: UserWarning: Implicit dimension choice for softmax has been deprecated. Change the call to include dim=X as an argument.\n",
            "  return F.softmax(x)\n"
          ]
        },
        {
          "output_type": "display_data",
          "data": {
            "text/plain": [
              "<Figure size 1200x500 with 10 Axes>"
            ],
            "image/png": "[encoded data removed]"
          },
          "metadata": {}
        }
      ]
    },
    {
      "cell_type": "code",
      "source": [],
      "metadata": {
        "id": "tqXx69SKnIc6"
      },
      "execution_count": null,
      "outputs": []
    }
  ]
}